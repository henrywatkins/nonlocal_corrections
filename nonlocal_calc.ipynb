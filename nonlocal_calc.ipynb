{
 "cells": [
  {
   "cell_type": "markdown",
   "metadata": {},
   "source": [
    "# Calculation of nonlocal corrections to transport coefficients"
   ]
  },
  {
   "cell_type": "markdown",
   "metadata": {},
   "source": [
    "# Imports"
   ]
  },
  {
   "cell_type": "code",
   "execution_count": 1,
   "metadata": {},
   "outputs": [],
   "source": [
    "from scipy import integrate\n",
    "from scipy.linalg import solve_triangular, inv\n",
    "from scipy.constants import pi as PI\n",
    "import numpy as np\n",
    "import matplotlib.pyplot as plt\n",
    "from tqdm import tqdm\n",
    "import matplotlib.colors as clr\n",
    "plt.rc('font', family='serif')\n",
    "plt.rc('text', usetex=False)"
   ]
  },
  {
   "cell_type": "markdown",
   "metadata": {},
   "source": [
    "# Recursive Calculation"
   ]
  },
  {
   "cell_type": "code",
   "execution_count": 2,
   "metadata": {},
   "outputs": [],
   "source": [
    "vlim=5.0\n",
    "vnum=50\n",
    "v=np.linspace(1e-10,vlim,num=vnum)\n",
    "etatherm=np.logspace(-3,3,num=vnum)\n",
    "chitherm=np.array([0., 0.1, 1, 5, 10, 100, 1000])"
   ]
  },
  {
   "cell_type": "code",
   "execution_count": 3,
   "metadata": {},
   "outputs": [],
   "source": [
    "chi_mesh, eta_mesh, v_mesh = np.meshgrid(chitherm,etatherm,v, indexing=\"ij\")\n",
    "eta_curve=eta_mesh*v_mesh**4.0\n",
    "chi_curve=chi_mesh*v_mesh**3.0"
   ]
  },
  {
   "cell_type": "code",
   "execution_count": 4,
   "metadata": {},
   "outputs": [],
   "source": [
    "#m=1 case - calculate the g function matrix that provides the high mode corrections\n",
    "#max l to start with\n",
    "lmax = 20"
   ]
  },
  {
   "cell_type": "code",
   "execution_count": 5,
   "metadata": {},
   "outputs": [],
   "source": [
    "def invert_mat_array(mat_arr):\n",
    "    shape = mat_arr.shape[:-2]\n",
    "    return np.array([[[inv(mat_arr[i,j,k]) for k in range(shape[2])] for j in range(shape[1])] for i in range(shape[0])])"
   ]
  },
  {
   "cell_type": "code",
   "execution_count": 6,
   "metadata": {},
   "outputs": [],
   "source": [
    "def invert_mat_array2(mat_arr):\n",
    "    shape = mat_arr.shape[:-2]\n",
    "    return np.array([[inv(mat_arr[i,j])  for j in range(shape[1])] for i in range(shape[0])])"
   ]
  },
  {
   "cell_type": "code",
   "execution_count": 7,
   "metadata": {},
   "outputs": [],
   "source": [
    "def calc_M(l, chi):\n",
    "    ones = np.ones(chi.shape)\n",
    "    val = l*(l+1)*0.5\n",
    "    mat = val*np.identity(l+1)\n",
    "    diag = np.tensordot(ones, mat, axes=0)\n",
    "    submat = 0.5*np.eye(l+1, k=-1)\n",
    "    subdiag = np.tensordot(chi, submat, axes=0)\n",
    "    m = np.arange(0,l)\n",
    "    supvals = -(l-m)*(l+m+1)\n",
    "    supmat = np.diag(supvals, k=1)\n",
    "    supdiag = np.tensordot(chi, supmat, axes=0)\n",
    "    return diag + subdiag + supdiag\n",
    "\n",
    "def calc_P(l, chi):\n",
    "    ones = np.ones(chi.shape)\n",
    "    m = np.arange(0,l+1)\n",
    "    diag = (l+m+1)/(2*l+3)\n",
    "    mat = np.diag(diag)\n",
    "    return np.tensordot(ones, mat, axes=0)\n",
    "\n",
    "def calc_N(l, chi):\n",
    "    ones = np.ones(chi.shape)\n",
    "    m = np.arange(0,l+1)\n",
    "    diag = (l-m)/(2*l-1)\n",
    "    mat = np.diag(diag)\n",
    "    return np.tensordot(ones, mat, axes=0)"
   ]
  },
  {
   "cell_type": "code",
   "execution_count": 8,
   "metadata": {},
   "outputs": [],
   "source": [
    "G1 = calc_M(1, chi_curve)"
   ]
  },
  {
   "cell_type": "code",
   "execution_count": 9,
   "metadata": {},
   "outputs": [
    {
     "name": "stderr",
     "output_type": "stream",
     "text": [
      "  0%|          | 0/20 [00:00<?, ?it/s]"
     ]
    },
    {
     "name": "stdout",
     "output_type": "stream",
     "text": [
      "20\n"
     ]
    },
    {
     "name": "stderr",
     "output_type": "stream",
     "text": [
      "  5%|▌         | 1/20 [00:02<00:39,  2.06s/it]"
     ]
    },
    {
     "name": "stdout",
     "output_type": "stream",
     "text": [
      "19\n"
     ]
    },
    {
     "name": "stderr",
     "output_type": "stream",
     "text": [
      " 10%|█         | 2/20 [00:04<00:36,  2.04s/it]"
     ]
    },
    {
     "name": "stdout",
     "output_type": "stream",
     "text": [
      "18\n"
     ]
    },
    {
     "name": "stderr",
     "output_type": "stream",
     "text": [
      " 15%|█▌        | 3/20 [00:05<00:32,  1.89s/it]"
     ]
    },
    {
     "name": "stdout",
     "output_type": "stream",
     "text": [
      "17\n"
     ]
    },
    {
     "name": "stderr",
     "output_type": "stream",
     "text": [
      " 20%|██        | 4/20 [00:07<00:29,  1.82s/it]"
     ]
    },
    {
     "name": "stdout",
     "output_type": "stream",
     "text": [
      "16\n"
     ]
    },
    {
     "name": "stderr",
     "output_type": "stream",
     "text": [
      " 25%|██▌       | 5/20 [00:08<00:25,  1.72s/it]"
     ]
    },
    {
     "name": "stdout",
     "output_type": "stream",
     "text": [
      "15\n"
     ]
    },
    {
     "name": "stderr",
     "output_type": "stream",
     "text": [
      " 30%|███       | 6/20 [00:09<00:21,  1.56s/it]"
     ]
    },
    {
     "name": "stdout",
     "output_type": "stream",
     "text": [
      "14\n"
     ]
    },
    {
     "name": "stderr",
     "output_type": "stream",
     "text": [
      " 35%|███▌      | 7/20 [00:10<00:17,  1.35s/it]"
     ]
    },
    {
     "name": "stdout",
     "output_type": "stream",
     "text": [
      "13\n"
     ]
    },
    {
     "name": "stderr",
     "output_type": "stream",
     "text": [
      " 40%|████      | 8/20 [00:11<00:13,  1.12s/it]"
     ]
    },
    {
     "name": "stdout",
     "output_type": "stream",
     "text": [
      "12\n"
     ]
    },
    {
     "name": "stderr",
     "output_type": "stream",
     "text": [
      " 45%|████▌     | 9/20 [00:11<00:10,  1.06it/s]"
     ]
    },
    {
     "name": "stdout",
     "output_type": "stream",
     "text": [
      "11\n"
     ]
    },
    {
     "name": "stderr",
     "output_type": "stream",
     "text": [
      " 50%|█████     | 10/20 [00:12<00:07,  1.26it/s]"
     ]
    },
    {
     "name": "stdout",
     "output_type": "stream",
     "text": [
      "10\n"
     ]
    },
    {
     "name": "stderr",
     "output_type": "stream",
     "text": [
      " 55%|█████▌    | 11/20 [00:12<00:06,  1.46it/s]"
     ]
    },
    {
     "name": "stdout",
     "output_type": "stream",
     "text": [
      "9\n"
     ]
    },
    {
     "name": "stderr",
     "output_type": "stream",
     "text": [
      " 60%|██████    | 12/20 [00:13<00:04,  1.65it/s]"
     ]
    },
    {
     "name": "stdout",
     "output_type": "stream",
     "text": [
      "8\n"
     ]
    },
    {
     "name": "stderr",
     "output_type": "stream",
     "text": [
      " 65%|██████▌   | 13/20 [00:13<00:03,  1.83it/s]"
     ]
    },
    {
     "name": "stdout",
     "output_type": "stream",
     "text": [
      "7\n"
     ]
    },
    {
     "name": "stderr",
     "output_type": "stream",
     "text": [
      " 70%|███████   | 14/20 [00:13<00:02,  2.02it/s]"
     ]
    },
    {
     "name": "stdout",
     "output_type": "stream",
     "text": [
      "6\n"
     ]
    },
    {
     "name": "stderr",
     "output_type": "stream",
     "text": [
      " 75%|███████▌  | 15/20 [00:14<00:02,  2.17it/s]"
     ]
    },
    {
     "name": "stdout",
     "output_type": "stream",
     "text": [
      "5\n"
     ]
    },
    {
     "name": "stderr",
     "output_type": "stream",
     "text": [
      " 80%|████████  | 16/20 [00:14<00:01,  2.30it/s]"
     ]
    },
    {
     "name": "stdout",
     "output_type": "stream",
     "text": [
      "4\n"
     ]
    },
    {
     "name": "stderr",
     "output_type": "stream",
     "text": [
      " 85%|████████▌ | 17/20 [00:15<00:01,  2.40it/s]"
     ]
    },
    {
     "name": "stdout",
     "output_type": "stream",
     "text": [
      "3\n"
     ]
    },
    {
     "name": "stderr",
     "output_type": "stream",
     "text": [
      " 90%|█████████ | 18/20 [00:15<00:00,  2.49it/s]"
     ]
    },
    {
     "name": "stdout",
     "output_type": "stream",
     "text": [
      "2\n"
     ]
    },
    {
     "name": "stderr",
     "output_type": "stream",
     "text": [
      " 95%|█████████▌| 19/20 [00:15<00:00,  2.59it/s]"
     ]
    },
    {
     "name": "stdout",
     "output_type": "stream",
     "text": [
      "1\n"
     ]
    },
    {
     "name": "stderr",
     "output_type": "stream",
     "text": [
      "100%|██████████| 20/20 [00:16<00:00,  1.24it/s]\n"
     ]
    }
   ],
   "source": [
    "G = calc_M(lmax+1, chi_curve)\n",
    "for l in tqdm(range(lmax,0,-1)):\n",
    "    print(l)\n",
    "    inv_G = invert_mat_array(G)\n",
    "    M = calc_M(l, chi_curve)\n",
    "    P = calc_P(l, chi_curve)\n",
    "    N = calc_N(l+1, chi_curve)\n",
    "    rhs = np.matmul(inv_G, N)[:,:,:,:l+1,:l+1]\n",
    "    eta2 = np.tensordot(eta_curve**2, np.identity(l+1), axes=0)\n",
    "    rhs = np.matmul(P, rhs)\n",
    "    G = M + eta2*rhs"
   ]
  },
  {
   "cell_type": "code",
   "execution_count": 10,
   "metadata": {},
   "outputs": [],
   "source": [
    "Gcart = np.array([[G[:,:,:,0,0], 0.5*G[:,:,:,0,1], np.zeros(G[:,:,:,0,0].shape)],[G[:,:,:,1,0], G[:,:,:,1,1], np.zeros(G[:,:,:,0,0].shape)],[np.zeros(G[:,:,:,0,0].shape), np.zeros(G[:,:,:,0,0].shape), -0.5*G[:,:,:,1,1]]])\n",
    "Gcart1 = np.array([[G1[:,:,:,0,0], 0.5*G1[:,:,:,0,1], np.zeros(G1[:,:,:,0,0].shape)],[G1[:,:,:,1,0], G1[:,:,:,1,1], np.zeros(G1[:,:,:,0,0].shape)],[np.zeros(G1[:,:,:,0,0].shape), np.zeros(G1[:,:,:,0,0].shape), -0.5*G1[:,:,:,1,1]]])"
   ]
  },
  {
   "cell_type": "code",
   "execution_count": 11,
   "metadata": {},
   "outputs": [],
   "source": [
    "Gcart = np.transpose(Gcart, axes=[2,3,4,0,1])\n",
    "Gcart1 = np.transpose(Gcart1, axes=[2,3,4,0,1])"
   ]
  },
  {
   "cell_type": "code",
   "execution_count": 12,
   "metadata": {},
   "outputs": [],
   "source": [
    "zeros = np.zeros(eta_curve.shape)\n",
    "K = np.array([[0.3333*eta_curve**2,zeros,zeros],[zeros,zeros,zeros],[zeros,zeros,zeros]]) \n",
    "K = np.transpose(K, axes=[2,3,4,0,1])"
   ]
  },
  {
   "cell_type": "code",
   "execution_count": 13,
   "metadata": {},
   "outputs": [],
   "source": [
    "Gcart = Gcart + K\n",
    "Gcart1 = Gcart1 + K"
   ]
  },
  {
   "cell_type": "code",
   "execution_count": 14,
   "metadata": {},
   "outputs": [],
   "source": [
    "inv_Gcart = invert_mat_array(Gcart)\n",
    "inv_Gcart1 = invert_mat_array(Gcart1)"
   ]
  },
  {
   "cell_type": "markdown",
   "metadata": {},
   "source": [
    "# Integration"
   ]
  },
  {
   "cell_type": "code",
   "execution_count": 27,
   "metadata": {},
   "outputs": [],
   "source": [
    "def integrator(powr, M):\n",
    "    ones = np.ones((3,3))\n",
    "    v_meshp = np.tensordot(v_mesh,ones, axes=0)\n",
    "    maxwell=0.0635*np.exp(-0.5*v_meshp**2.0)\n",
    "    integrand=M*maxwell*(v_meshp**powr)\n",
    "    return integrate.simps(integrand, v ,axis=2)"
   ]
  },
  {
   "cell_type": "code",
   "execution_count": 28,
   "metadata": {},
   "outputs": [],
   "source": [
    "mv7 = 4*PI*integrator(7, inv_Gcart)\n",
    "mv9 = 4*PI*integrator(9, inv_Gcart)\n",
    "mv11 = 4*PI*integrator(11, inv_Gcart)\n",
    "\n",
    "mv7p = 4*PI*integrator(7, inv_Gcart1)\n",
    "mv9p = 4*PI*integrator(9, inv_Gcart1)\n",
    "mv11p = 4*PI*integrator(11, inv_Gcart1)\n"
   ]
  },
  {
   "cell_type": "code",
   "execution_count": 29,
   "metadata": {},
   "outputs": [],
   "source": [
    "invmv7 = invert_mat_array2(mv7)\n",
    "invmv7p = invert_mat_array2(mv7p)"
   ]
  },
  {
   "cell_type": "code",
   "execution_count": 30,
   "metadata": {},
   "outputs": [],
   "source": [
    "rhs = np.matmul(mv9,np.matmul(invmv7, mv9))\n",
    "kappa = (mv11 - rhs)/12\n",
    "\n",
    "rhs = np.matmul(mv9p,np.matmul(invmv7p, mv9p))\n",
    "kappa1 = (mv11p - rhs)/12"
   ]
  },
  {
   "cell_type": "code",
   "execution_count": 31,
   "metadata": {},
   "outputs": [],
   "source": [
    "ident = np.identity(3)\n",
    "rhs = 2.5*np.tensordot(np.ones(mv7.shape[:-2]), ident, axes=0)\n",
    "beta = 0.5*np.matmul(invmv7, mv9) - rhs"
   ]
  },
  {
   "cell_type": "code",
   "execution_count": 32,
   "metadata": {},
   "outputs": [],
   "source": [
    "alpha = 3*invmv7"
   ]
  },
  {
   "cell_type": "code",
   "execution_count": 33,
   "metadata": {},
   "outputs": [
    {
     "data": {
      "text/plain": [
       "(0.0, 5.0)"
      ]
     },
     "execution_count": 33,
     "metadata": {},
     "output_type": "execute_result"
    },
    {
     "data": {
      "image/png": "[encoded data removed]",
      "text/plain": [
       "<Figure size 432x288 with 1 Axes>"
      ]
     },
     "metadata": {
      "needs_background": "light"
     },
     "output_type": "display_data"
    }
   ],
   "source": [
    "plt.semilogx(etatherm, alpha[0,:,0,0])\n",
    "plt.semilogx(etatherm, alpha[1,:,0,0])\n",
    "plt.semilogx(etatherm, alpha[2,:,0,0])\n",
    "plt.semilogx(etatherm, alpha[3,:,0,0])\n",
    "plt.semilogx(etatherm, alpha[4,:,0,0])\n",
    "plt.semilogx(etatherm, alpha[5,:,0,0])\n",
    "plt.ylim(0,5)"
   ]
  },
  {
   "cell_type": "code",
   "execution_count": 34,
   "metadata": {},
   "outputs": [
    {
     "data": {
      "text/plain": [
       "(-1.0, 5.0)"
      ]
     },
     "execution_count": 34,
     "metadata": {},
     "output_type": "execute_result"
    },
    {
     "data": {
      "image/png": "[encoded data removed]",
      "text/plain": [
       "<Figure size 432x288 with 1 Axes>"
      ]
     },
     "metadata": {
      "needs_background": "light"
     },
     "output_type": "display_data"
    }
   ],
   "source": [
    "plt.semilogx(etatherm, alpha[0,:,1,0])\n",
    "plt.semilogx(etatherm, alpha[1,:,1,0])\n",
    "plt.semilogx(etatherm, alpha[2,:,1,0])\n",
    "plt.semilogx(etatherm, alpha[3,:,1,0])\n",
    "plt.semilogx(etatherm, alpha[4,:,1,0])\n",
    "plt.semilogx(etatherm, alpha[5,:,1,0])\n",
    "plt.ylim(-1,5)"
   ]
  },
  {
   "cell_type": "code",
   "execution_count": 35,
   "metadata": {},
   "outputs": [
    {
     "data": {
      "text/plain": [
       "(-2.5, 1.5)"
      ]
     },
     "execution_count": 35,
     "metadata": {},
     "output_type": "execute_result"
    },
    {
     "data": {
      "image/png": "[encoded data removed]",
      "text/plain": [
       "<Figure size 432x288 with 1 Axes>"
      ]
     },
     "metadata": {
      "needs_background": "light"
     },
     "output_type": "display_data"
    }
   ],
   "source": [
    "plt.semilogx(etatherm, beta[0,:,0,0])\n",
    "plt.semilogx(etatherm, beta[1,:,0,0])\n",
    "plt.semilogx(etatherm, beta[2,:,0,0])\n",
    "plt.semilogx(etatherm, beta[3,:,0,0])\n",
    "plt.semilogx(etatherm, beta[4,:,0,0])\n",
    "plt.semilogx(etatherm, beta[5,:,0,0])\n",
    "plt.ylim(-2.5,1.5)"
   ]
  },
  {
   "cell_type": "code",
   "execution_count": 36,
   "metadata": {},
   "outputs": [
    {
     "data": {
      "text/plain": [
       "(-0.5, 0.5)"
      ]
     },
     "execution_count": 36,
     "metadata": {},
     "output_type": "execute_result"
    },
    {
     "data": {
      "image/png": "[encoded data removed]",
      "text/plain": [
       "<Figure size 432x288 with 1 Axes>"
      ]
     },
     "metadata": {
      "needs_background": "light"
     },
     "output_type": "display_data"
    }
   ],
   "source": [
    "plt.semilogx(etatherm, -beta[0,:,1,0])\n",
    "plt.semilogx(etatherm, -beta[1,:,1,0])\n",
    "plt.semilogx(etatherm, -beta[2,:,1,0])\n",
    "plt.semilogx(etatherm, -beta[3,:,1,0])\n",
    "plt.ylim(-0.5,0.5)"
   ]
  },
  {
   "cell_type": "code",
   "execution_count": 37,
   "metadata": {},
   "outputs": [
    {
     "data": {
      "text/plain": [
       "(0.0, 14.0)"
      ]
     },
     "execution_count": 37,
     "metadata": {},
     "output_type": "execute_result"
    },
    {
     "data": {
      "image/png": "[encoded data removed]",
      "text/plain": [
       "<Figure size 432x288 with 1 Axes>"
      ]
     },
     "metadata": {
      "needs_background": "light"
     },
     "output_type": "display_data"
    }
   ],
   "source": [
    "plt.semilogx(etatherm, kappa[0,:,0,0])\n",
    "plt.semilogx(etatherm, kappa[1,:,0,0])\n",
    "plt.semilogx(etatherm, kappa[2,:,0,0])\n",
    "plt.semilogx(etatherm, kappa[3,:,0,0])\n",
    "plt.semilogx(etatherm, kappa[4,:,0,0])\n",
    "plt.semilogx(etatherm, kappa[5,:,0,0])\n",
    "plt.semilogx(etatherm, kappa1[0,:,0,0])\n",
    "plt.semilogx(etatherm, kappa1[1,:,0,0])\n",
    "plt.semilogx(etatherm, kappa1[2,:,0,0])\n",
    "plt.semilogx(etatherm, kappa1[3,:,0,0])\n",
    "plt.semilogx(etatherm, kappa1[4,:,0,0])\n",
    "plt.semilogx(etatherm, kappa1[5,:,0,0])\n",
    "plt.ylim(0,14)"
   ]
  },
  {
   "cell_type": "code",
   "execution_count": 38,
   "metadata": {},
   "outputs": [
    {
     "data": {
      "text/plain": [
       "(0.0, 5.0)"
      ]
     },
     "execution_count": 38,
     "metadata": {},
     "output_type": "execute_result"
    },
    {
     "data": {
      "image/png": "[encoded data removed]",
      "text/plain": [
       "<Figure size 432x288 with 1 Axes>"
      ]
     },
     "metadata": {
      "needs_background": "light"
     },
     "output_type": "display_data"
    }
   ],
   "source": [
    "plt.semilogx(etatherm, -kappa[0,:,1,0])\n",
    "plt.semilogx(etatherm, -kappa[1,:,1,0])\n",
    "plt.semilogx(etatherm, -kappa[2,:,1,0])\n",
    "plt.semilogx(etatherm, -kappa[3,:,1,0])\n",
    "plt.ylim(0,5)"
   ]
  },
  {
   "cell_type": "markdown",
   "metadata": {},
   "source": [
    "# Plotting"
   ]
  },
  {
   "cell_type": "code",
   "execution_count": null,
   "metadata": {},
   "outputs": [],
   "source": []
  },
  {
   "cell_type": "code",
   "execution_count": null,
   "metadata": {},
   "outputs": [],
   "source": []
  }
 ],
 "metadata": {
  "kernelspec": {
   "display_name": "Python 3",
   "language": "python",
   "name": "python3"
  },
  "language_info": {
   "codemirror_mode": {
    "name": "ipython",
    "version": 3
   },
   "file_extension": ".py",
   "mimetype": "text/x-python",
   "name": "python",
   "nbconvert_exporter": "python",
   "pygments_lexer": "ipython3",
   "version": "3.7.6"
  }
 },
 "nbformat": 4,
 "nbformat_minor": 4
}
